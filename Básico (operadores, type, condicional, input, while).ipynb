{
 "cells": [
  {
   "cell_type": "code",
   "execution_count": 1,
   "id": "007fb9dd",
   "metadata": {},
   "outputs": [
    {
     "name": "stdout",
     "output_type": "stream",
     "text": [
      "Hello, Python!\n"
     ]
    }
   ],
   "source": [
    "print(\"Hello, Python!\")"
   ]
  },
  {
   "cell_type": "code",
   "execution_count": 2,
   "id": "db66fe90",
   "metadata": {},
   "outputs": [],
   "source": [
    "x = 5\n",
    "y = 3"
   ]
  },
  {
   "cell_type": "code",
   "execution_count": 3,
   "id": "941efc7e",
   "metadata": {},
   "outputs": [],
   "source": [
    "soma = x + y\n",
    "subtraçao = x - y\n",
    "multiplicação = x * y\n",
    "divisao = x / y\n",
    "exponeciaçao = x ** y\n",
    "divisao_inteira = x // y"
   ]
  },
  {
   "cell_type": "code",
   "execution_count": 5,
   "id": "4221dd30",
   "metadata": {},
   "outputs": [
    {
     "name": "stdout",
     "output_type": "stream",
     "text": [
      "8 2 15 1.6666666666666667 125 1\n"
     ]
    }
   ],
   "source": [
    "print(soma, subtraçao, multiplicação, divisao, exponeciaçao, divisao_inteira)"
   ]
  },
  {
   "cell_type": "code",
   "execution_count": 3,
   "id": "2dabc767",
   "metadata": {},
   "outputs": [],
   "source": [
    "cidade = \"Patos\"\n",
    "idade = 22"
   ]
  },
  {
   "cell_type": "code",
   "execution_count": 4,
   "id": "f53f9ac7",
   "metadata": {},
   "outputs": [
    {
     "name": "stdout",
     "output_type": "stream",
     "text": [
      "Patos <class 'str'>\n",
      "22 <class 'int'>\n"
     ]
    }
   ],
   "source": [
    "print(cidade, type(cidade))\n",
    "print(idade, type(idade))"
   ]
  },
  {
   "cell_type": "code",
   "execution_count": 6,
   "id": "a9bdaf42",
   "metadata": {},
   "outputs": [
    {
     "name": "stdout",
     "output_type": "stream",
     "text": [
      "True <class 'bool'>\n"
     ]
    }
   ],
   "source": [
    "disponivel = True\n",
    "print(disponivel, type(disponivel))"
   ]
  },
  {
   "cell_type": "code",
   "execution_count": 7,
   "id": "5ff0bb74",
   "metadata": {},
   "outputs": [],
   "source": [
    "acessa = True\n",
    "apagada = False"
   ]
  },
  {
   "cell_type": "code",
   "execution_count": 8,
   "id": "93b24df5",
   "metadata": {},
   "outputs": [
    {
     "name": "stdout",
     "output_type": "stream",
     "text": [
      "False\n",
      "True\n",
      "False\n"
     ]
    }
   ],
   "source": [
    "print(not acessa)\n",
    "print(acessa or apagada)\n",
    "print(acessa and apagada)"
   ]
  },
  {
   "cell_type": "code",
   "execution_count": 9,
   "id": "28c19a29",
   "metadata": {},
   "outputs": [],
   "source": [
    "a = 7.2\n",
    "b = 3"
   ]
  },
  {
   "cell_type": "code",
   "execution_count": 12,
   "id": "7260e737",
   "metadata": {},
   "outputs": [
    {
     "name": "stdout",
     "output_type": "stream",
     "text": [
      "True\n",
      "False\n",
      "True\n",
      "False\n",
      "False\n",
      "True\n"
     ]
    }
   ],
   "source": [
    "print(a > b)\n",
    "print(a < b)\n",
    "print(a >= b)\n",
    "print(a <= b)\n",
    "print(a == b)\n",
    "print(a != b)"
   ]
  },
  {
   "cell_type": "code",
   "execution_count": 15,
   "id": "95384189",
   "metadata": {},
   "outputs": [
    {
     "name": "stdout",
     "output_type": "stream",
     "text": [
      "Nome: Letícia M\n",
      "<class 'str'>\n",
      "Idade: 22\n",
      "<class 'int'>\n"
     ]
    }
   ],
   "source": [
    "nome = input(\"Nome: \")\n",
    "print(type(nome))\n",
    "idade = input(\"Idade: \")\n",
    "idade = int(idade)\n",
    "print(type(idade))"
   ]
  },
  {
   "cell_type": "code",
   "execution_count": 18,
   "id": "86dbe54e",
   "metadata": {},
   "outputs": [
    {
     "name": "stdout",
     "output_type": "stream",
     "text": [
      "Salário mensal: 600\n",
      "Quanto você gastou esse mês: 500\n",
      "Total economizado ao final de um ano: 1200.0\n"
     ]
    }
   ],
   "source": [
    "salario_mensal = input(\"Salário mensal: \")\n",
    "salario_mensal = float(salario_mensal)\n",
    "\n",
    "gasto_mensal = input(\"Quanto você gastou esse mês: \")\n",
    "gasto_mensal = float(gasto_mensal)\n",
    "\n",
    "salario_anual = (salario_mensal * 12)\n",
    "gasto_anual = (gasto_mensal * 12)\n",
    "\n",
    "montante_economizado = salario_anual - gasto_anual\n",
    "print(\"Total economizado ao final de um ano:\", montante_economizado)"
   ]
  },
  {
   "cell_type": "code",
   "execution_count": 35,
   "id": "cb936c0f",
   "metadata": {},
   "outputs": [
    {
     "name": "stdout",
     "output_type": "stream",
     "text": [
      "Qual o valor da corrida? 23\n",
      "Espere um pouco\n"
     ]
    }
   ],
   "source": [
    "valor_passagem = 4.3\n",
    "valor_corrida = input(\"Qual o valor da corrida? \")\n",
    "valor_corrida = float(valor_corrida)\n",
    "\n",
    "if valor_corrida <= valor_passagem * 5:\n",
    "    print(\"Pague a corrida\")\n",
    "elif valor_corrida <= valor_passagem * 6:\n",
    "    print(\"Espere um pouco\")\n",
    "else:\n",
    "    print(\"Pegue o ônibus\")"
   ]
  },
  {
   "cell_type": "code",
   "execution_count": 41,
   "id": "b0eb425c",
   "metadata": {},
   "outputs": [
    {
     "name": "stdout",
     "output_type": "stream",
     "text": [
      "Quantos ítens? 13\n",
      "1 Ítem limpo\n",
      "2 Ítens limpos\n",
      "3 Ítens limpos\n",
      "4 Ítens limpos\n",
      "5 Ítens limpos\n",
      "6 Ítens limpos\n",
      "7 Ítens limpos\n",
      "8 Ítens limpos\n",
      "9 Ítens limpos\n",
      "10 Ítens limpos\n",
      "11 Ítens limpos\n",
      "12 Ítens limpos\n",
      "13 Ítens limpos\n",
      "Fim\n"
     ]
    }
   ],
   "source": [
    "contador = 0\n",
    "itens = input(\"Quantos ítens? \")\n",
    "itens = int(itens)\n",
    "\n",
    "while contador < itens:\n",
    "    contador = contador + 1\n",
    "    if contador == 1:\n",
    "        print(contador,\"Ítem limpo\")\n",
    "    else:\n",
    "        print(contador, \"Ítens limpos\")\n",
    "print(\"Fim\")"
   ]
  },
  {
   "cell_type": "code",
   "execution_count": 44,
   "id": "6dd60070",
   "metadata": {},
   "outputs": [
    {
     "name": "stdout",
     "output_type": "stream",
     "text": [
      "Digite a senha: 109\n",
      "Acesso negado, digite a senha novamente: becas\n",
      "Acesso concedido\n"
     ]
    }
   ],
   "source": [
    "texto = input(\"Digite a senha: \")\n",
    "\n",
    "while texto != \"becas\":\n",
    "    texto = input(\"Acesso negado, digite a senha novamente: \")\n",
    "\n",
    "print(\"Acesso concedido\")"
   ]
  },
  {
   "cell_type": "code",
   "execution_count": 48,
   "id": "87eef0c3",
   "metadata": {},
   "outputs": [
    {
     "name": "stdout",
     "output_type": "stream",
     "text": [
      "Quantos ítens? 4\n",
      "2 Ítem limpo\n",
      "3 Ítem limpo\n",
      "4 Ítem limpo\n",
      "Fim\n"
     ]
    }
   ],
   "source": [
    "contador = 0\n",
    "itens = input(\"Quantos ítens? \")\n",
    "itens = int(itens)\n",
    "\n",
    "while contador < itens:\n",
    "    contador = contador + 1\n",
    "    if contador == 1:\n",
    "        continue\n",
    "    print(contador,\"Ítem limpo\")\n",
    "        \n",
    "print(\"Fim\")"
   ]
  },
  {
   "cell_type": "code",
   "execution_count": null,
   "id": "0b937d20",
   "metadata": {},
   "outputs": [],
   "source": []
  }
 ],
 "metadata": {
  "kernelspec": {
   "display_name": "Python 3 (ipykernel)",
   "language": "python",
   "name": "python3"
  },
  "language_info": {
   "codemirror_mode": {
    "name": "ipython",
    "version": 3
   },
   "file_extension": ".py",
   "mimetype": "text/x-python",
   "name": "python",
   "nbconvert_exporter": "python",
   "pygments_lexer": "ipython3",
   "version": "3.10.7"
  }
 },
 "nbformat": 4,
 "nbformat_minor": 5
}
