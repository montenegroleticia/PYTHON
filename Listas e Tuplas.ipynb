{
 "cells": [
  {
   "cell_type": "code",
   "execution_count": 1,
   "id": "4a34e819",
   "metadata": {},
   "outputs": [
    {
     "name": "stdout",
     "output_type": "stream",
     "text": [
      "['Brasil', 'Rússia', 'China', 'África']\n"
     ]
    }
   ],
   "source": [
    "nomes_paises = [\"Brasil\", \"Rússia\", \"China\", \"África\"]\n",
    "print(nomes_paises)"
   ]
  },
  {
   "cell_type": "code",
   "execution_count": 2,
   "id": "ab44b966",
   "metadata": {},
   "outputs": [
    {
     "name": "stdout",
     "output_type": "stream",
     "text": [
      "Tamanho da lista 4\n"
     ]
    }
   ],
   "source": [
    "print(\"Tamanho da lista\", len(nomes_paises))"
   ]
  },
  {
   "cell_type": "code",
   "execution_count": 3,
   "id": "26df728d",
   "metadata": {},
   "outputs": [
    {
     "name": "stdout",
     "output_type": "stream",
     "text": [
      "País:  Brasil\n"
     ]
    }
   ],
   "source": [
    "print(\"País: \", nomes_paises[0])"
   ]
  },
  {
   "cell_type": "code",
   "execution_count": 4,
   "id": "4884040d",
   "metadata": {},
   "outputs": [
    {
     "name": "stdout",
     "output_type": "stream",
     "text": [
      "País:  China\n"
     ]
    }
   ],
   "source": [
    "print(\"País: \", nomes_paises[-2])"
   ]
  },
  {
   "cell_type": "code",
   "execution_count": 5,
   "id": "f5ddd1f2",
   "metadata": {},
   "outputs": [
    {
     "name": "stdout",
     "output_type": "stream",
     "text": [
      "['Brasil', 'Rússia', 'China', 'Índia']\n"
     ]
    }
   ],
   "source": [
    "nomes_paises[3] = \"Índia\"\n",
    "print(nomes_paises)"
   ]
  },
  {
   "cell_type": "code",
   "execution_count": 6,
   "id": "be047f96",
   "metadata": {},
   "outputs": [
    {
     "name": "stdout",
     "output_type": "stream",
     "text": [
      "['Rússia', 'China']\n"
     ]
    }
   ],
   "source": [
    "print(nomes_paises[1:3])"
   ]
  },
  {
   "cell_type": "code",
   "execution_count": 7,
   "id": "32818496",
   "metadata": {},
   "outputs": [
    {
     "name": "stdout",
     "output_type": "stream",
     "text": [
      "['Rússia', 'China']\n"
     ]
    }
   ],
   "source": [
    "print(nomes_paises[1:-1])"
   ]
  },
  {
   "cell_type": "code",
   "execution_count": 8,
   "id": "c1b678e5",
   "metadata": {},
   "outputs": [
    {
     "name": "stdout",
     "output_type": "stream",
     "text": [
      "['Rússia', 'China', 'Índia']\n"
     ]
    }
   ],
   "source": [
    "print(nomes_paises[1:])"
   ]
  },
  {
   "cell_type": "code",
   "execution_count": 9,
   "id": "e51474b0",
   "metadata": {},
   "outputs": [
    {
     "name": "stdout",
     "output_type": "stream",
     "text": [
      "['Brasil', 'Rússia', 'China']\n"
     ]
    }
   ],
   "source": [
    "print(nomes_paises[:3])"
   ]
  },
  {
   "cell_type": "code",
   "execution_count": 10,
   "id": "9a18a6bd",
   "metadata": {},
   "outputs": [
    {
     "name": "stdout",
     "output_type": "stream",
     "text": [
      "['Brasil', 'Rússia', 'China', 'Índia']\n"
     ]
    }
   ],
   "source": [
    "print(nomes_paises[:])"
   ]
  },
  {
   "cell_type": "code",
   "execution_count": 11,
   "id": "f9513d69",
   "metadata": {},
   "outputs": [
    {
     "name": "stdout",
     "output_type": "stream",
     "text": [
      "['Brasil', 'China']\n"
     ]
    }
   ],
   "source": [
    "print(nomes_paises[::2])"
   ]
  },
  {
   "cell_type": "code",
   "execution_count": 12,
   "id": "a3f3ab46",
   "metadata": {},
   "outputs": [
    {
     "name": "stdout",
     "output_type": "stream",
     "text": [
      "['Índia', 'China', 'Rússia', 'Brasil']\n"
     ]
    }
   ],
   "source": [
    "print(nomes_paises[::-1])"
   ]
  },
  {
   "cell_type": "code",
   "execution_count": 13,
   "id": "5cb700ca",
   "metadata": {},
   "outputs": [
    {
     "name": "stdout",
     "output_type": "stream",
     "text": [
      "True\n"
     ]
    }
   ],
   "source": [
    "print(\"Brasil\" in nomes_paises)"
   ]
  },
  {
   "cell_type": "code",
   "execution_count": 14,
   "id": "fd8c232a",
   "metadata": {},
   "outputs": [
    {
     "name": "stdout",
     "output_type": "stream",
     "text": [
      "False\n"
     ]
    }
   ],
   "source": [
    "print(\"Brasil\" not in nomes_paises)"
   ]
  },
  {
   "cell_type": "code",
   "execution_count": 15,
   "id": "d0d19f1c",
   "metadata": {},
   "outputs": [],
   "source": [
    "lista_capitais = []"
   ]
  },
  {
   "cell_type": "code",
   "execution_count": 16,
   "id": "8385fd07",
   "metadata": {},
   "outputs": [
    {
     "name": "stdout",
     "output_type": "stream",
     "text": [
      "['Rio de Janeiro', 'João Pessoa', 'Brasília']\n"
     ]
    }
   ],
   "source": [
    "lista_capitais.append(\"Rio de Janeiro\")\n",
    "lista_capitais.append(\"João Pessoa\")\n",
    "lista_capitais.append(\"Brasília\")\n",
    "\n",
    "print(lista_capitais)"
   ]
  },
  {
   "cell_type": "code",
   "execution_count": 17,
   "id": "1d766b9f",
   "metadata": {},
   "outputs": [
    {
     "name": "stdout",
     "output_type": "stream",
     "text": [
      "['Rio de Janeiro', 'João Pessoa', 'São Paulo', 'Brasília']\n"
     ]
    }
   ],
   "source": [
    "lista_capitais.insert(2, \"São Paulo\")\n",
    "print(lista_capitais)"
   ]
  },
  {
   "cell_type": "code",
   "execution_count": 18,
   "id": "fb205dee",
   "metadata": {},
   "outputs": [
    {
     "name": "stdout",
     "output_type": "stream",
     "text": [
      "['João Pessoa', 'São Paulo', 'Brasília']\n"
     ]
    }
   ],
   "source": [
    "lista_capitais.remove(\"Rio de Janeiro\")\n",
    "print(lista_capitais)"
   ]
  },
  {
   "cell_type": "code",
   "execution_count": 28,
   "id": "26723297",
   "metadata": {},
   "outputs": [
    {
     "name": "stdout",
     "output_type": "stream",
     "text": [
      "['João Pessoa', 'São Paulo'] Brasília\n"
     ]
    }
   ],
   "source": [
    "removido = lista_capitais.pop(2)\n",
    "print(lista_capitais, removido)"
   ]
  },
  {
   "cell_type": "code",
   "execution_count": 20,
   "id": "6be072df",
   "metadata": {},
   "outputs": [
    {
     "name": "stdout",
     "output_type": "stream",
     "text": [
      "('GOT', 'HOTD', 'TBBT') <class 'tuple'>\n"
     ]
    }
   ],
   "source": [
    "nomes_series = \"GOT\", \"HOTD\", \"TBBT\"\n",
    "print(nomes_series, type(nomes_series))"
   ]
  },
  {
   "cell_type": "code",
   "execution_count": 21,
   "id": "5c745716",
   "metadata": {},
   "outputs": [
    {
     "name": "stdout",
     "output_type": "stream",
     "text": [
      "['João Pessoa', 'São Paulo', 'Brasília'] <class 'list'>\n"
     ]
    }
   ],
   "source": [
    "print(lista_capitais, type(lista_capitais))"
   ]
  },
  {
   "cell_type": "code",
   "execution_count": 22,
   "id": "4b6f23f7",
   "metadata": {},
   "outputs": [
    {
     "data": {
      "text/plain": [
       "3"
      ]
     },
     "execution_count": 22,
     "metadata": {},
     "output_type": "execute_result"
    }
   ],
   "source": [
    "len(nomes_series)"
   ]
  },
  {
   "cell_type": "code",
   "execution_count": 23,
   "id": "91703978",
   "metadata": {},
   "outputs": [
    {
     "data": {
      "text/plain": [
       "'GOT'"
      ]
     },
     "execution_count": 23,
     "metadata": {},
     "output_type": "execute_result"
    }
   ],
   "source": [
    "nomes_series[0]"
   ]
  },
  {
   "cell_type": "code",
   "execution_count": 24,
   "id": "9b6372c9",
   "metadata": {},
   "outputs": [],
   "source": [
    "g, h, t = nomes_series"
   ]
  },
  {
   "cell_type": "code",
   "execution_count": 25,
   "id": "ee32a244",
   "metadata": {},
   "outputs": [
    {
     "name": "stdout",
     "output_type": "stream",
     "text": [
      "GOT HOTD TBBT\n"
     ]
    }
   ],
   "source": [
    "print(g, h, t)"
   ]
  },
  {
   "cell_type": "code",
   "execution_count": 26,
   "id": "02129b4f",
   "metadata": {},
   "outputs": [
    {
     "name": "stdout",
     "output_type": "stream",
     "text": [
      "GOT HOTD TBBT\n"
     ]
    }
   ],
   "source": [
    "print(*nomes_series)"
   ]
  },
  {
   "cell_type": "code",
   "execution_count": 27,
   "id": "560ab93e",
   "metadata": {},
   "outputs": [
    {
     "name": "stdout",
     "output_type": "stream",
     "text": [
      "('GOT', 'HOTD', 'TBBT')\n"
     ]
    }
   ],
   "source": [
    "print(nomes_series)"
   ]
  },
  {
   "cell_type": "code",
   "execution_count": null,
   "id": "99b94e56",
   "metadata": {},
   "outputs": [],
   "source": []
  }
 ],
 "metadata": {
  "kernelspec": {
   "display_name": "Python 3 (ipykernel)",
   "language": "python",
   "name": "python3"
  },
  "language_info": {
   "codemirror_mode": {
    "name": "ipython",
    "version": 3
   },
   "file_extension": ".py",
   "mimetype": "text/x-python",
   "name": "python",
   "nbconvert_exporter": "python",
   "pygments_lexer": "ipython3",
   "version": "3.10.7"
  }
 },
 "nbformat": 4,
 "nbformat_minor": 5
}
