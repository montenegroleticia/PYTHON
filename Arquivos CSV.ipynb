{
 "cells": [
  {
   "cell_type": "code",
   "execution_count": 1,
   "id": "3ff40b51",
   "metadata": {},
   "outputs": [],
   "source": [
    "import csv"
   ]
  },
  {
   "cell_type": "code",
   "execution_count": 2,
   "id": "6158733b",
   "metadata": {},
   "outputs": [
    {
     "ename": "FileNotFoundError",
     "evalue": "[Errno 2] No such file or directory: 'brasil_covid.csv'",
     "output_type": "error",
     "traceback": [
      "\u001b[1;31m---------------------------------------------------------------------------\u001b[0m",
      "\u001b[1;31mFileNotFoundError\u001b[0m                         Traceback (most recent call last)",
      "Cell \u001b[1;32mIn [2], line 1\u001b[0m\n\u001b[1;32m----> 1\u001b[0m \u001b[38;5;28;01mwith\u001b[39;00m \u001b[38;5;28;43mopen\u001b[39;49m\u001b[43m(\u001b[49m\u001b[38;5;124;43m'\u001b[39;49m\u001b[38;5;124;43mbrasil_covid.csv\u001b[39;49m\u001b[38;5;124;43m'\u001b[39;49m\u001b[43m,\u001b[49m\u001b[43m \u001b[49m\u001b[43mencoding\u001b[49m\u001b[43m \u001b[49m\u001b[38;5;241;43m=\u001b[39;49m\u001b[43m \u001b[49m\u001b[38;5;124;43m'\u001b[39;49m\u001b[38;5;124;43mUTF-8\u001b[39;49m\u001b[38;5;124;43m'\u001b[39;49m\u001b[43m)\u001b[49m \u001b[38;5;28;01mas\u001b[39;00m arquivo\u001b[38;5;241m.\u001b[39mcsv:\n\u001b[0;32m      2\u001b[0m     leito \u001b[38;5;241m=\u001b[39m csv\u001b[38;5;241m.\u001b[39mreader(arquivo\u001b[38;5;241m.\u001b[39mcsv)\n\u001b[0;32m      3\u001b[0m     \u001b[38;5;28;01mfor\u001b[39;00m linha \u001b[38;5;129;01min\u001b[39;00m leitor:\n",
      "\u001b[1;31mFileNotFoundError\u001b[0m: [Errno 2] No such file or directory: 'brasil_covid.csv'"
     ]
    }
   ],
   "source": [
    "with open('brasil_covid.csv', encoding = 'UTF-8') as arquivo.csv:\n",
    "    leito = csv.reader(arquivo.csv)\n",
    "    header = next(leitor)\n",
    "    for linha in leitor:\n",
    "        if float(linha[2])>1:\n",
    "            print(linha)"
   ]
  },
  {
   "cell_type": "code",
   "execution_count": 5,
   "id": "c22c8404",
   "metadata": {},
   "outputs": [],
   "source": [
    "with open('urses.cvs', 'w', encoding = 'UTF-8') as arquivo_users:\n",
    "    escritor = csv.writer(arquivo_users)\n",
    "    escritor.writerow(['nome', 'sobrenome', 'email', 'genero'])\n",
    "    escritor.writerow(['Letícia', 'Montenegro', 'email', 'Feminino'])"
   ]
  },
  {
   "cell_type": "code",
   "execution_count": null,
   "id": "032af454",
   "metadata": {},
   "outputs": [],
   "source": [
    "header = ['nome', 'sobrenome']\n",
    "dados = []\n",
    "opt = input(\"Menu\\n1 - Cadastrar\\n0 - Sair\\n\")\n",
    "while opt != '0':\n",
    "    nome = input('Nome: ')\n",
    "    sobrenome = input(\"Sobrenome: \")\n",
    "    dados.append([nome, sobrenome])\n",
    "    opt = input(\"Menu\\n1 -Cadastrar\\n0 -Sair\\n\")\n",
    "\n",
    "print(dados)\n",
    "\n",
    "with open('users.csv', 'w', newline='') as arquivo_csv:\n",
    "    writer = csv.writer(arquivo_csv)\n",
    "    writer.writerow(header)\n",
    "    writer.writerows(dados)\n",
    "    \n",
    "with open(\"users.csv\", 'r') as csv_file:\n",
    "    csv_reader = csv.reader(csv_file, delimiter = ',')\n",
    "    for row in csv_reader:\n",
    "        print(row)"
   ]
  },
  {
   "cell_type": "code",
   "execution_count": null,
   "id": "76222f8c",
   "metadata": {},
   "outputs": [],
   "source": []
  }
 ],
 "metadata": {
  "kernelspec": {
   "display_name": "Python 3 (ipykernel)",
   "language": "python",
   "name": "python3"
  },
  "language_info": {
   "codemirror_mode": {
    "name": "ipython",
    "version": 3
   },
   "file_extension": ".py",
   "mimetype": "text/x-python",
   "name": "python",
   "nbconvert_exporter": "python",
   "pygments_lexer": "ipython3",
   "version": "3.10.7"
  }
 },
 "nbformat": 4,
 "nbformat_minor": 5
}
